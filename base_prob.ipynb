{
 "cells": [
  {
   "cell_type": "markdown",
   "metadata": {
    "collapsed": true,
    "slideshow": {
     "slide_type": "skip"
    }
   },
   "source": [
    "# Utils\n"
   ]
  },
  {
   "cell_type": "code",
   "execution_count": null,
   "metadata": {
    "ExecuteTime": {
     "end_time": "2017-01-02T12:26:33.750310",
     "start_time": "2017-01-02T12:26:33.458283"
    },
    "collapsed": false,
    "slideshow": {
     "slide_type": "skip"
    }
   },
   "outputs": [],
   "source": [
    "\n",
    "%load_ext Cython"
   ]
  },
  {
   "cell_type": "code",
   "execution_count": null,
   "metadata": {
    "ExecuteTime": {
     "end_time": "2017-01-02T12:26:33.851413",
     "start_time": "2017-01-02T12:26:33.814204"
    },
    "code_folding": [
     0
    ],
    "collapsed": false,
    "slideshow": {
     "slide_type": "skip"
    }
   },
   "outputs": [],
   "source": [
    "%%cython\n",
    "import numpy as np\n",
    "cimport cython\n",
    "cimport numpy as np\n",
    "\n",
    "@cython.boundscheck(False)\n",
    "@cython.wraparound(False)\n",
    "def by_part_votes(int n, int part, np.ndarray[double, ndim=1] base_dist):\n",
    "    cdef double acc = 0.0\n",
    "    cdef np.ndarray[double, ndim=1] dist = base_dist.copy()\n",
    "    for i in xrange(n/part):\n",
    "        val = np.random.choice(2, part, p=dist)\n",
    "        acc += np.sum(val)\n",
    "        dist[1] = acc / ((i+1)*part) \n",
    "        dist[0] = 1 - dist[1]\n",
    "    return acc"
   ]
  },
  {
   "cell_type": "code",
   "execution_count": null,
   "metadata": {
    "ExecuteTime": {
     "end_time": "2017-01-02T12:26:34.230752",
     "start_time": "2017-01-02T12:26:34.191515"
    },
    "code_folding": [
     0
    ],
    "collapsed": false,
    "slideshow": {
     "slide_type": "skip"
    }
   },
   "outputs": [],
   "source": [
    "# jupyter nbextension enable --py --sys-prefix widgetsnbextension\n",
    "# pip install https://github.com/ipython-contrib/jupyter_contrib_nbextensions/tarball/master\n",
    "# pip install jupyter_nbextensions_configurator\n",
    "# jupyter contrib nbextension install --user\n",
    "# jupyter nbextensions_configurator enable --user\n",
    "# https://www.dataquest.io/blog/jupyter-notebook-tips-tricks-shortcuts/\n",
    "\n",
    "def set_size():\n",
    "    fig_size = plt.rcParams[\"figure.figsize\"]\n",
    "\n",
    "    # Prints: [6.0, 4.0]\n",
    "#     print \"Current size:\", fig_size\n",
    "\n",
    "    # Set figure width to 12 and height to 9\n",
    "#     fig_size[0] = 12\n",
    "#     fig_size[1] = 8\n",
    "    fig_size[0] = 9\n",
    "    fig_size[1] = 6\n",
    "    plt.rcParams[\"figure.figsize\"] = fig_size\n",
    "    \n",
    "def log_progress(sequence, every=None, size=None):\n",
    "    from ipywidgets import IntProgress, HTML, VBox\n",
    "    from IPython.display import display\n",
    "\n",
    "    is_iterator = False\n",
    "    if size is None:\n",
    "        try:\n",
    "            size = len(sequence)\n",
    "        except TypeError:\n",
    "            is_iterator = True\n",
    "    if size is not None:\n",
    "        if every is None:\n",
    "            if size <= 200:\n",
    "                every = 1\n",
    "            else:\n",
    "                every = int(size / 200)     # every 0.5%\n",
    "    else:\n",
    "        assert every is not None, 'sequence is iterator, set every'\n",
    "\n",
    "    if is_iterator:\n",
    "        progress = IntProgress(min=0, max=1, value=1)\n",
    "        progress.bar_style = 'info'\n",
    "    else:\n",
    "        progress = IntProgress(min=0, max=size, value=0)\n",
    "    label = HTML()\n",
    "    box = VBox(children=[label, progress])\n",
    "    display(box)\n",
    "\n",
    "    index = 0\n",
    "    try:\n",
    "        for index, record in enumerate(sequence, 1):\n",
    "            if index == 1 or index % every == 0:\n",
    "                if is_iterator:\n",
    "                    label.value = '{index} / ?'.format(index=index)\n",
    "                else:\n",
    "                    progress.value = index\n",
    "                    label.value = u'{index} / {size}'.format(\n",
    "                        index=index,\n",
    "                        size=size\n",
    "                    )\n",
    "            yield record\n",
    "    except:\n",
    "        progress.bar_style = 'danger'\n",
    "        raise\n",
    "    else:\n",
    "        progress.bar_style = 'success'\n",
    "        progress.value = index\n",
    "        label.value = str(index or '?')"
   ]
  },
  {
   "cell_type": "markdown",
   "metadata": {
    "ExecuteTime": {
     "end_time": "2017-01-01T17:29:04.371778",
     "start_time": "2017-01-01T17:29:04.368245"
    },
    "slideshow": {
     "slide_type": "slide"
    }
   },
   "source": [
    "<center> <h1>Начало</h1> </center>\n",
    "![hate_main](images/hate_main.png)"
   ]
  },
  {
   "cell_type": "markdown",
   "metadata": {
    "collapsed": true,
    "slideshow": {
     "slide_type": "slide"
    }
   },
   "source": [
    "<center> <h1> Случайное событие</h1> \n",
    "![dice](images/dice.jpg)\n",
    "![coin](images/coin.gif)\n",
    "</center>"
   ]
  },
  {
   "cell_type": "markdown",
   "metadata": {
    "ExecuteTime": {
     "end_time": "2017-01-01T17:56:52.454435",
     "start_time": "2017-01-01T17:56:52.450735"
    },
    "slideshow": {
     "slide_type": "subslide"
    }
   },
   "source": [
    "<center> <h1> Частотой появления события</h1> </center>\n",
    "\n",
    "События:\n",
    "- выпал орёл\n",
    "- сумма значений игральных кубиокв равна 6\n",
    "\n",
    "Формулая частоты появления события:\n",
    "\\begin{equation}\n",
    "P(событие...)=\\frac{кол. появлений}{кол. испытаний}\n",
    "\\end{equation}\n",
    "\n",
    "\n",
    "Далее частоту называем вероятностью. Вероятность события А обозначается P(A). \n",
    "\n",
    "(mathematical danger)\n",
    "\n",
    "\n"
   ]
  },
  {
   "cell_type": "markdown",
   "metadata": {
    "ExecuteTime": {
     "end_time": "2017-01-01T22:17:26.763286",
     "start_time": "2017-01-01T22:17:26.758742"
    },
    "slideshow": {
     "slide_type": "subslide"
    }
   },
   "source": [
    "## Несовместные события\n",
    "\n",
    "Никакие из них не могут появиться одновременно.\n",
    "\n",
    "Пусть события X и Y несовместны, тогда вероятность того что произойдёт одно из двух события (либо X либо Y):\n",
    "\\begin{equation}\n",
    "P(X+Y)=P(X)+P(Y)\n",
    "\\end{equation}\n",
    "\n",
    "## Независимые события\n",
    "\n",
    "Это когда наступление одного из событий не изменяет вероятность наступления другого.\n",
    "\n",
    "ПУсть события A и B независимы, тогда вероятность того что они произойдёт события A и событие B:\n",
    "\\begin{equation}\n",
    "P(A,B)=P(A)P(B)\n",
    "\\end{equation}"
   ]
  },
  {
   "cell_type": "markdown",
   "metadata": {
    "slideshow": {
     "slide_type": "slide"
    }
   },
   "source": [
    "<center> <h1>Опыты с монеткой</h1> </center>\n",
    " "
   ]
  },
  {
   "cell_type": "code",
   "execution_count": null,
   "metadata": {
    "ExecuteTime": {
     "end_time": "2017-01-02T12:30:34.849682",
     "start_time": "2017-01-02T12:30:34.568385"
    },
    "code_folding": [
     0
    ],
    "collapsed": false,
    "slideshow": {
     "slide_type": "fragment"
    }
   },
   "outputs": [],
   "source": [
    "%%time\n",
    "%matplotlib inline\n",
    "import matplotlib.pyplot as plt\n",
    "import matplotlib.cm as cm\n",
    "import numpy as np\n",
    "import math\n",
    "\n",
    "c = 1\n",
    "p = 0.5  \n",
    "n = 100\n",
    "data = np.random.binomial(c, p, n)\n",
    "\n",
    "plt.subplot(121)\n",
    "x_data = np.arange(n) + 1\n",
    "y_data = np.cumsum(data).astype(float) / x_data\n",
    "plt.plot(x_data,y_data)\n",
    "plt.axhline(p, color='r')\n",
    "\n",
    "plt.subplot(122)\n",
    "w = int(math.sqrt(n))\n",
    "plt.imshow( data[0:w*w].reshape(w,w), cmap=cm.gray,interpolation='none')"
   ]
  },
  {
   "cell_type": "markdown",
   "metadata": {
    "ExecuteTime": {
     "end_time": "2017-01-01T22:24:21.402039",
     "start_time": "2017-01-01T22:24:21.396422"
    },
    "slideshow": {
     "slide_type": "slide"
    }
   },
   "source": [
    "<center> <h1>\"Парадоксы\"</h1> </center>"
   ]
  },
  {
   "cell_type": "markdown",
   "metadata": {
    "ExecuteTime": {
     "end_time": "2017-01-01T18:28:33.732325",
     "start_time": "2017-01-01T18:28:33.715306"
    },
    "slideshow": {
     "slide_type": "slide"
    }
   },
   "source": [
    "<center> <h2>\"Ошибка игрока\",лакеры и невротики</h2> </center>\n",
    "\n",
    "Кидаем монетку 10 раз. Бросили 9 и видим, что выпало 9 орлов! Что вероятнее выпадет при последнем десятом броске ?\n",
    "\n",
    "![lucker](images/lucker.png)"
   ]
  },
  {
   "cell_type": "code",
   "execution_count": null,
   "metadata": {
    "ExecuteTime": {
     "end_time": "2017-01-02T13:06:34.420262",
     "start_time": "2017-01-02T13:06:06.642239"
    },
    "code_folding": [
     0
    ],
    "collapsed": false,
    "slideshow": {
     "slide_type": "subslide"
    }
   },
   "outputs": [],
   "source": [
    "%%time\n",
    "%matplotlib inline\n",
    "\n",
    "import numpy as np\n",
    "import matplotlib.pyplot as plt\n",
    "  \n",
    "n = 10\n",
    "tests = 1000000\n",
    "# tests = 10000\n",
    "# tests = 100000\n",
    "# tests = 1000000\n",
    "found = 0\n",
    "results = []\n",
    "size = n*tests\n",
    "data = np.zeros(size,dtype=int)\n",
    "color = np.array([[0,0,0],[255,255,255],[255,0,0]])\n",
    "for i in log_progress(xrange(tests),every=100):\n",
    "    arr = np.random.binomial(1, 0.5, n)\n",
    "    data[i*n:(i+1)*n] = arr\n",
    "    if arr[0:n-1].sum() == n-1:\n",
    "        data[(i+1)*n-1] = 2\n",
    "        found += 1\n",
    "        results.append(arr[n-1])\n",
    "                \n",
    "results = np.array(results)\n",
    "print(\"Total:\"+str(tests))\n",
    "print(\"Found:\"+str(found))\n",
    "# print(results)\n",
    "p = results.sum().astype(float) / found\n",
    "print(\"P=\"+str(p))\n",
    "# plt.subplot(121)\n",
    "\n",
    "# x_data = np.arange(n) + 1\n",
    "# y_data = np.cumsum(data).astype(float) / x_data\n",
    "# plt.plot(x_data,y_data)\n",
    "# plt.axhline(p, color='r')\n",
    "\n",
    "plt.subplot(121)\n",
    "w = int(math.sqrt(size))\n",
    "plt.imshow( data[0:w*w].reshape(w,w), cmap=cm.gray,interpolation='none')\n",
    "   \n",
    "    "
   ]
  },
  {
   "cell_type": "markdown",
   "metadata": {
    "ExecuteTime": {
     "end_time": "2017-01-01T19:31:16.710136",
     "start_time": "2017-01-01T19:31:16.690731"
    },
    "slideshow": {
     "slide_type": "slide"
    }
   },
   "source": [
    "<center> <h1>\"Парадокс Монти Холла\"</h1> </center>\n",
    "![montihol1](images/montihol1.jpg)\n"
   ]
  },
  {
   "cell_type": "code",
   "execution_count": null,
   "metadata": {
    "ExecuteTime": {
     "end_time": "2017-01-02T13:33:09.794614",
     "start_time": "2017-01-02T13:33:09.316602"
    },
    "code_folding": [
     0
    ],
    "collapsed": false,
    "slideshow": {
     "slide_type": "subslide"
    }
   },
   "outputs": [],
   "source": [
    "%%time\n",
    "%matplotlib inline\n",
    "\n",
    "import numpy as np\n",
    "import matplotlib.pyplot as plt\n",
    "\n",
    "tests = 10000\n",
    "win_changed_his_mind = 0\n",
    "win_not_changed_his_mind = 0\n",
    "no_1 = [1,2]\n",
    "no_2 = [0,2]\n",
    "no_3 = [0,1]\n",
    "no_arr = [no_1,no_2,no_3]\n",
    "for i in log_progress(xrange(tests),every=100):\n",
    "    door = np.random.randint(3)\n",
    "    chooce = np.random.randint(3)\n",
    "    if door == chooce:\n",
    "        new_chooce = no_arr[chooce][np.random.randint(2)] \n",
    "    else:\n",
    "        new_chooce = door\n",
    "    \n",
    "    if chooce == door:\n",
    "        win_not_changed_his_mind += 1\n",
    "        \n",
    "    if new_chooce == door:\n",
    "        win_changed_his_mind += 1\n",
    "    \n",
    "    \n",
    "#     print(\"door\",door)\n",
    "#     print(\"chooce\",chooce)\n",
    "#     print(\"new_choce\",new_choce)\n",
    "p1 = float(win_changed_his_mind) / tests\n",
    "p2 = float(win_not_changed_his_mind) / tests\n",
    "print(\"P(win changed his mind)=\"+str(p1))\n",
    "print(\"P(win not changed his mind)=\"+str(p2))\n",
    "    \n",
    "fig, ax = plt.subplots()\n",
    "rects1 = ax.bar(1, (p1), 0.35, color='r')\n",
    "rects2 = ax.bar(2, (p2), 0.35, color='g')\n",
    "ax.legend((rects1[0], rects2[0]), ('Changed', 'Not changed'))\n",
    "plt.show()"
   ]
  },
  {
   "cell_type": "markdown",
   "metadata": {
    "ExecuteTime": {
     "end_time": "2017-01-01T20:11:54.914253",
     "start_time": "2017-01-01T20:11:54.781711"
    },
    "slideshow": {
     "slide_type": "slide"
    }
   },
   "source": [
    "<center> <h1>Обьяснение \"парадокаса\"</h1> \n",
    "![montihol2](images/montihol2.png?2)\n",
    "![montihol3](images/montihol3.png?2)\n",
    "</center>"
   ]
  },
  {
   "cell_type": "markdown",
   "metadata": {
    "slideshow": {
     "slide_type": "slide"
    }
   },
   "source": [
    "<center> <h1>Закрепление :)</h1> \n",
    "![extrasens](images/extrasens.jpeg)\n",
    "</center>"
   ]
  },
  {
   "cell_type": "markdown",
   "metadata": {
    "ExecuteTime": {
     "end_time": "2017-01-02T16:11:42.660880",
     "start_time": "2017-01-02T16:11:42.655231"
    },
    "collapsed": true,
    "slideshow": {
     "slide_type": "slide"
    }
   },
   "source": [
    "<center> <h1>Нормальное распределение</h1> \n",
    "![normal1](images/normal1.jpg)\n",
    "</center>\n"
   ]
  },
  {
   "cell_type": "markdown",
   "metadata": {
    "ExecuteTime": {
     "end_time": "2017-01-02T16:12:35.618917",
     "start_time": "2017-01-02T16:12:35.613510"
    },
    "collapsed": true,
    "slideshow": {
     "slide_type": "slide"
    }
   },
   "source": [
    "<center> <h1>Гаусиан</h1> \n",
    "![probability-distribution-standard-deviation](images/probability-distribution-standard-deviation.png)\n",
    "<center>"
   ]
  },
  {
   "cell_type": "markdown",
   "metadata": {
    "slideshow": {
     "slide_type": "slide"
    }
   },
   "source": [
    "<center> <h1>Делаем гаусиан</h1> <center>"
   ]
  },
  {
   "cell_type": "code",
   "execution_count": null,
   "metadata": {
    "ExecuteTime": {
     "end_time": "2017-01-02T16:23:43.099587",
     "start_time": "2017-01-02T16:23:42.506060"
    },
    "code_folding": [
     0
    ],
    "collapsed": false,
    "slideshow": {
     "slide_type": "fragment"
    }
   },
   "outputs": [],
   "source": [
    "%%time\n",
    "%matplotlib inline\n",
    "\n",
    "import numpy as np\n",
    "import matplotlib.pyplot as plt\n",
    "\n",
    "c = 1 \n",
    "p = 0.50  \n",
    "n = 100\n",
    "n_half = n / 2\n",
    "tests = 1000\n",
    "votes = np.zeros(tests)\n",
    "\n",
    "for i in log_progress(xrange(tests),every=100):\n",
    "    s = np.random.binomial(c, p, n)\n",
    "    votes[i] = np.sum(s)\n",
    "print(\"sum:\"+str(s)+\"=\"+str(np.sum(s)))\n",
    "set_size()\n",
    "# Hist\n",
    "ax = plt.subplot(111)\n",
    "ax.hist(votes,n,color='green',alpha=0.8)\n",
    "sigma = np.std(votes)\n",
    "mean = np.mean(votes)\n",
    "ax.axvline(mean, color='b', linestyle='--', lw=2)\n",
    "ax.axvline(mean+1*sigma, color='b', linestyle='-', lw=2)\n",
    "ax.axvline(mean-1*sigma, color='b', linestyle='-', lw=2)\n",
    "ax.axvline(mean+2*sigma, color='b', linestyle='-', lw=2)\n",
    "ax.axvline(mean-2*sigma, color='b', linestyle='-', lw=2)\n",
    "ax.axvline(mean+3*sigma, color='b', linestyle='-', lw=2)\n",
    "ax.axvline(mean-3*sigma, color='b', linestyle='-', lw=2)\n",
    "\n",
    "# Plot \n",
    "plt.show()"
   ]
  },
  {
   "cell_type": "markdown",
   "metadata": {
    "slideshow": {
     "slide_type": "slide"
    }
   },
   "source": [
    "<center> <h1>Тест IQ</h1> \n",
    "![iq](images/iq.jpg?2)\n",
    "<center>"
   ]
  },
  {
   "cell_type": "code",
   "execution_count": null,
   "metadata": {
    "collapsed": true,
    "slideshow": {
     "slide_type": "slide"
    }
   },
   "outputs": [],
   "source": []
  },
  {
   "cell_type": "markdown",
   "metadata": {
    "slideshow": {
     "slide_type": "slide"
    }
   },
   "source": [
    "<center> <h1>Демократия</h1> \n",
    "![democracy](images/democracy.jpg)\n",
    "</center>\n"
   ]
  },
  {
   "cell_type": "markdown",
   "metadata": {
    "slideshow": {
     "slide_type": "slide"
    }
   },
   "source": [
    "<center> <h1>Голосование</h1> </center>"
   ]
  },
  {
   "cell_type": "code",
   "execution_count": null,
   "metadata": {
    "ExecuteTime": {
     "end_time": "2017-01-02T16:26:38.577212",
     "start_time": "2017-01-02T16:26:38.573048"
    },
    "collapsed": true,
    "slideshow": {
     "slide_type": "fragment"
    }
   },
   "outputs": [],
   "source": [
    "p = 0.5 #\n",
    "n = 10 #"
   ]
  },
  {
   "cell_type": "code",
   "execution_count": null,
   "metadata": {
    "ExecuteTime": {
     "end_time": "2017-01-02T16:26:40.978609",
     "start_time": "2017-01-02T16:26:40.269506"
    },
    "code_folding": [
     0
    ],
    "collapsed": false,
    "slideshow": {
     "slide_type": "fragment"
    }
   },
   "outputs": [],
   "source": [
    "%%time\n",
    "%matplotlib inline\n",
    "\n",
    "import numpy as np\n",
    "import matplotlib.pyplot as plt\n",
    "\n",
    "c = 1 \n",
    "# p = 0.51  \n",
    "# n = 1000\n",
    "n_half = n / 2\n",
    "tests = 10000\n",
    "votes = np.zeros(tests)\n",
    "results = np.zeros(tests)\n",
    "\n",
    "\n",
    "for i in log_progress(xrange(tests),every=100):\n",
    "    s = np.random.binomial(c, p, n)\n",
    "    votes[i] = np.sum(s)\n",
    "    results[i] = (votes[i] / n) > 0.5 \n",
    "set_size()\n",
    "# Hist\n",
    "ax = plt.subplot(121)\n",
    "ax.hist(votes,min(n,100),color='green',alpha=0.8)\n",
    "sigma = np.std(votes)\n",
    "mean = np.mean(votes)\n",
    "ax.axvline(n/2, color='r', linestyle='--', lw=2)\n",
    "ax.axvline(mean, color='b', linestyle='--', lw=2)\n",
    "ax.axvline(mean+3*sigma, color='b', linestyle='-', lw=2)\n",
    "ax.axvline(mean-3*sigma, color='b', linestyle='-', lw=2)\n",
    "# Bar\n",
    "labels = u'Good', u'Bad'\n",
    "avproved = np.sum(results)\n",
    "sizes = [avproved, tests - avproved]\n",
    "colors = ['gold', 'lightcoral']\n",
    "explode = (0.1, 0)  \n",
    "ax2 = plt.subplot(122)\n",
    "ax2.pie(sizes, explode=explode, labels=labels, colors=colors,\n",
    "        autopct='%1.1f%%', shadow=True)\n",
    "# Plot \n",
    "plt.axis('equal')\n",
    "plt.show()"
   ]
  },
  {
   "cell_type": "markdown",
   "metadata": {
    "collapsed": false,
    "slideshow": {
     "slide_type": "slide"
    }
   },
   "source": [
    "<center> <h1>Голосуем группами</h1> </center>"
   ]
  },
  {
   "cell_type": "code",
   "execution_count": null,
   "metadata": {
    "ExecuteTime": {
     "end_time": "2017-01-02T16:27:11.664050",
     "start_time": "2017-01-02T16:27:11.659318"
    },
    "collapsed": true,
    "slideshow": {
     "slide_type": "fragment"
    }
   },
   "outputs": [],
   "source": [
    "p = 0.5\n",
    "n = 10\n",
    "part = 2"
   ]
  },
  {
   "cell_type": "code",
   "execution_count": null,
   "metadata": {
    "ExecuteTime": {
     "end_time": "2017-01-02T16:27:13.354519",
     "start_time": "2017-01-02T16:27:12.606740"
    },
    "code_folding": [
     0
    ],
    "collapsed": false,
    "slideshow": {
     "slide_type": "fragment"
    }
   },
   "outputs": [],
   "source": [
    "%%time\n",
    "%matplotlib inline\n",
    "\n",
    "# n = 1000\n",
    "# part = 500\n",
    "base_dist = np.array([1-p,p])\n",
    "acc = 0.0\n",
    "n_half = n / 2\n",
    "tests = 1000\n",
    "    \n",
    "votes = np.zeros(tests)\n",
    "results = np.zeros(tests)\n",
    "\n",
    "for j in log_progress(xrange(tests),every=10):\n",
    "# for j in xrange(tests):\n",
    "#     acc = 0.0\n",
    "#     dist = base_dist.copy()\n",
    "#     for i in xrange(n/part):\n",
    "#         val = np.random.choice(2, part, p=dist)\n",
    "#         acc += np.sum(val)\n",
    "#         dist[1] = acc / ((i+1)*part) \n",
    "#         dist[0] = 1 - dist[1]\n",
    "    acc = acc = by_part_votes(n,part,base_dist)\n",
    "    votes[j] = acc\n",
    "    results[j] = (acc / n) > 0.5 \n",
    "\n",
    "set_size()\n",
    "# Hist\n",
    "plt.subplot(121)\n",
    "# plt.yscale('log')\n",
    "plt.hist(votes,min(n,100),color='green',alpha=0.8)\n",
    "sigma = np.std(votes)\n",
    "mean = np.mean(votes)\n",
    "plt.axvline(n/2, color='r', linestyle='--', lw=2)\n",
    "plt.axvline(mean, color='b', linestyle='--', lw=2)\n",
    "plt.axvline(mean+3*sigma, color='b', linestyle='-', lw=2)\n",
    "plt.axvline(mean-3*sigma, color='b', linestyle='-', lw=2)\n",
    "\n",
    "# Bar\n",
    "labels = u'Good', u'Bad'\n",
    "avproved = np.sum(results)\n",
    "sizes = [avproved, tests - avproved]\n",
    "colors = ['gold', 'lightcoral']\n",
    "explode = (0.1, 0)  \n",
    "\n",
    "plt.subplot(122)\n",
    "plt.pie(sizes, explode=explode, labels=labels, colors=colors,\n",
    "        autopct='%1.1f%%', shadow=True)\n",
    "# plt.yscale('logit')\n",
    "# plt.title('logit')\n",
    "# plt.grid(True)\n",
    "\n",
    "# Plot \n",
    "plt.axis('equal')\n",
    "plt.show()"
   ]
  },
  {
   "cell_type": "markdown",
   "metadata": {
    "collapsed": false,
    "slideshow": {
     "slide_type": "slide"
    }
   },
   "source": [
    "<center> <h1>Нужно не так много, но многим :)</h1> \n",
    "![manga](images/manga.jpg)\n",
    "</center>"
   ]
  }
 ],
 "metadata": {
  "celltoolbar": "Slideshow",
  "kernelspec": {
   "display_name": "Python 2",
   "language": "python",
   "name": "python2"
  },
  "language_info": {
   "codemirror_mode": {
    "name": "ipython",
    "version": 2
   },
   "file_extension": ".py",
   "mimetype": "text/x-python",
   "name": "python",
   "nbconvert_exporter": "python",
   "pygments_lexer": "ipython2",
   "version": "2.7.12"
  },
  "widgets": {
   "state": {
    "a12dfd3def924b059e7f06237de4ab4c": {
     "views": [
      {
       "cell_index": 28
      }
     ]
    },
    "b6318cb741ec4920876791fb8277d380": {
     "views": [
      {
       "cell_index": 19
      }
     ]
    },
    "c0487ab9a3d543b8a08c5c0820ac0808": {
     "views": [
      {
       "cell_index": 14
      }
     ]
    },
    "cfbd891e812442af8c8e3d8d8c837a92": {
     "views": [
      {
       "cell_index": 12
      }
     ]
    },
    "e9c0fb464642429d9ad5799abcd5673f": {
     "views": [
      {
       "cell_index": 25
      }
     ]
    }
   },
   "version": "1.2.0"
  }
 },
 "nbformat": 4,
 "nbformat_minor": 0
}
